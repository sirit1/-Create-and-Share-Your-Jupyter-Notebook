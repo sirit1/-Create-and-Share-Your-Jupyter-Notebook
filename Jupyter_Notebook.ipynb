{
 "cells": [
  {
   "cell_type": "markdown",
   "metadata": {},
   "source": [
    "<center>\n",
    "    <img src=\"https://s3-api.us-geo.objectstorage.softlayer.net/cf-courses-data/CognitiveClass/Logos/organization_logo/organization_logo.png\" width=\"300\" alt=\"cognitiveclass.ai logo\"  />\n",
    "</center>\n"
   ]
  },
  {
   "cell_type": "markdown",
   "metadata": {},
   "source": [
    "#### Add your code below following the instructions given in the course\n"
   ]
  },
  {
   "cell_type": "code",
   "execution_count": 5,
   "metadata": {},
   "outputs": [
    {
     "data": {
      "text/plain": [
       "{'metadata': {'language_info': {'codemirror_mode': {'name': 'python',\n",
       "    'version': 3},\n",
       "   'file_extension': '.py',\n",
       "   'mimetype': 'text/x-python',\n",
       "   'name': 'python',\n",
       "   'nbconvert_exporter': 'python',\n",
       "   'pygments_lexer': 'ipython3',\n",
       "   'version': '3.8'},\n",
       "  'kernelspec': {'name': 'python',\n",
       "   'display_name': 'Pyolite',\n",
       "   'language': 'python'}},\n",
       " 'nbformat_minor': 4,\n",
       " 'nbformat': 4,\n",
       " 'cells': [{'cell_type': 'markdown',\n",
       "   'source': '# My Jupyter Notebook on IBM Watson Studio',\n",
       "   'metadata': {}},\n",
       "  {'cell_type': 'markdown',\n",
       "   'source': '**Alejandro sirit**  \\nData Scientist',\n",
       "   'metadata': {}},\n",
       "  {'cell_type': 'markdown',\n",
       "   'source': '*I am interested in data science because I enjoy collecting, analyzing and presenting data based on facts and evidence.*',\n",
       "   'metadata': {}},\n",
       "  {'cell_type': 'markdown',\n",
       "   'source': '### In Cell 5, I am going to input a code to perform a simple mathematics equation.',\n",
       "   'metadata': {}},\n",
       "  {'cell_type': 'code',\n",
       "   'source': '5 + 7',\n",
       "   'metadata': {'trusted': True},\n",
       "   'execution_count': 1,\n",
       "   'outputs': [{'execution_count': 1,\n",
       "     'output_type': 'execute_result',\n",
       "     'data': {'text/plain': '12'},\n",
       "     'metadata': {}}]},\n",
       "  {'cell_type': 'markdown',\n",
       "   'source': '# Here is a horizontal rule\\n___\\n  \\n| Hyperlinks     | Strikethrough | Highlight |\\n| :----------------------------: | :-----------: | :-------: |\\n| [link](https://www.google.com) | ~~Google~~    | `Hello`   |',\n",
       "   'metadata': {}}]}"
      ]
     },
     "execution_count": 5,
     "metadata": {},
     "output_type": "execute_result"
    }
   ],
   "source": [
    "{\n",
    "  \"metadata\": {\n",
    "    \"language_info\": {\n",
    "      \"codemirror_mode\": {\n",
    "        \"name\": \"python\",\n",
    "        \"version\": 3\n",
    "      },\n",
    "      \"file_extension\": \".py\",\n",
    "      \"mimetype\": \"text/x-python\",\n",
    "      \"name\": \"python\",\n",
    "      \"nbconvert_exporter\": \"python\",\n",
    "      \"pygments_lexer\": \"ipython3\",\n",
    "      \"version\": \"3.8\"\n",
    "    },\n",
    "    \"kernelspec\": {\n",
    "      \"name\": \"python\",\n",
    "      \"display_name\": \"Pyolite\",\n",
    "      \"language\": \"python\"\n",
    "    }\n",
    "  },\n",
    "  \"nbformat_minor\": 4,\n",
    "  \"nbformat\": 4,\n",
    "  \"cells\": [\n",
    "    {\n",
    "      \"cell_type\": \"markdown\",\n",
    "      \"source\": \"# My Jupyter Notebook on IBM Watson Studio\",\n",
    "      \"metadata\": {}\n",
    "    },\n",
    "    {\n",
    "      \"cell_type\": \"markdown\",\n",
    "      \"source\": \"**Alejandro sirit**  \\nData Scientist\",\n",
    "      \"metadata\": {}\n",
    "    },\n",
    "    {\n",
    "      \"cell_type\": \"markdown\",\n",
    "      \"source\": \"*I am interested in data science because I enjoy collecting, analyzing and presenting data based on facts and evidence.*\",\n",
    "      \"metadata\": {}\n",
    "    },\n",
    "    {\n",
    "      \"cell_type\": \"markdown\",\n",
    "      \"source\": \"### In Cell 5, I am going to input a code to perform a simple mathematics equation.\",\n",
    "      \"metadata\": {}\n",
    "    },\n",
    "    {\n",
    "      \"cell_type\": \"code\",\n",
    "      \"source\": \"5 + 7\",\n",
    "      \"metadata\": {\n",
    "        \"trusted\": True\n",
    "      },\n",
    "      \"execution_count\": 1,\n",
    "      \"outputs\": [\n",
    "        {\n",
    "          \"execution_count\": 1,\n",
    "          \"output_type\": \"execute_result\",\n",
    "          \"data\": {\n",
    "            \"text/plain\": \"12\"\n",
    "          },\n",
    "          \"metadata\": {}\n",
    "        }\n",
    "      ]\n",
    "    },\n",
    "    {\n",
    "      \"cell_type\": \"markdown\",\n",
    "      \"source\": \"# Here is a horizontal rule\\n___\\n  \\n| Hyperlinks     | Strikethrough | Highlight |\\n| :----------------------------: | :-----------: | :-------: |\\n| [link](https://www.google.com) | ~~Google~~    | `Hello`   |\",\n",
    "      \"metadata\": {}\n",
    "    }\n",
    "  ]\n",
    "}"
   ]
  },
  {
   "cell_type": "code",
   "execution_count": null,
   "metadata": {},
   "outputs": [],
   "source": []
  }
 ],
 "metadata": {
  "kernelspec": {
   "display_name": "Python",
   "language": "python",
   "name": "conda-env-python-py"
  },
  "language_info": {
   "codemirror_mode": {
    "name": "ipython",
    "version": 3
   },
   "file_extension": ".py",
   "mimetype": "text/x-python",
   "name": "python",
   "nbconvert_exporter": "python",
   "pygments_lexer": "ipython3",
   "version": "3.7.12"
  }
 },
 "nbformat": 4,
 "nbformat_minor": 4
}
